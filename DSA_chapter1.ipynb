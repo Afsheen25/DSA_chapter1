{
  "nbformat": 4,
  "nbformat_minor": 0,
  "metadata": {
    "colab": {
      "provenance": [],
      "authorship_tag": "ABX9TyOIr4juhe1Gdi4QVtYIRd5x",
      "include_colab_link": true
    },
    "kernelspec": {
      "name": "python3",
      "display_name": "Python 3"
    },
    "language_info": {
      "name": "python"
    }
  },
  "cells": [
    {
      "cell_type": "markdown",
      "metadata": {
        "id": "view-in-github",
        "colab_type": "text"
      },
      "source": [
        "<a href=\"https://colab.research.google.com/github/Afsheen25/DSA_chapter1/blob/main/DSA_chapter1.ipynb\" target=\"_parent\"><img src=\"https://colab.research.google.com/assets/colab-badge.svg\" alt=\"Open In Colab\"/></a>"
      ]
    },
    {
      "cell_type": "markdown",
      "source": [
        "🧩 Exercise 1: Convert integer to binary (without bin())"
      ],
      "metadata": {
        "id": "cGks0yRwNyhk"
      }
    },
    {
      "cell_type": "code",
      "execution_count": null,
      "metadata": {
        "colab": {
          "base_uri": "https://localhost:8080/",
          "height": 36
        },
        "id": "g326Yu4nMNLy",
        "outputId": "1cfe04e4-9583-46c3-d15f-bde0e81febd6"
      },
      "outputs": [
        {
          "output_type": "execute_result",
          "data": {
            "text/plain": [
              "'111100'"
            ],
            "application/vnd.google.colaboratory.intrinsic+json": {
              "type": "string"
            }
          },
          "metadata": {},
          "execution_count": 3
        }
      ],
      "source": [
        "def int_to_binary(num):\n",
        "  binary=''\n",
        "  while num > 0:\n",
        "    binary=str(num%2)+binary\n",
        "    num=num//2\n",
        "  return binary\n",
        "\n",
        "\n",
        "int_to_binary(60)"
      ]
    },
    {
      "cell_type": "markdown",
      "source": [
        "🧩 Exercise 2: Reverse a String (without slicing)"
      ],
      "metadata": {
        "id": "oSPYaPZzPppW"
      }
    },
    {
      "cell_type": "code",
      "source": [
        "def reverse_string(s):\n",
        "  string=\"\"\n",
        "  for char in s:\n",
        "    string=char+string\n",
        "  return string\n",
        "\n",
        "reverse_string(\"sana\")"
      ],
      "metadata": {
        "colab": {
          "base_uri": "https://localhost:8080/",
          "height": 36
        },
        "id": "bXnC0HC2Psz5",
        "outputId": "0b2ba745-fe70-4efa-8965-34fb7a0e41e5"
      },
      "execution_count": null,
      "outputs": [
        {
          "output_type": "execute_result",
          "data": {
            "text/plain": [
              "'anas'"
            ],
            "application/vnd.google.colaboratory.intrinsic+json": {
              "type": "string"
            }
          },
          "metadata": {},
          "execution_count": 4
        }
      ]
    },
    {
      "cell_type": "markdown",
      "source": [
        "🧩 Exercise 3: Check if a String is a Palindrome"
      ],
      "metadata": {
        "id": "vn761y7SQ7BA"
      }
    },
    {
      "cell_type": "code",
      "source": [
        "def is_palindrome(s):\n",
        "  return s==s[::-1]\n",
        "\n",
        "print(is_palindrome('sana'))\n",
        "print(is_palindrome('elle'))"
      ],
      "metadata": {
        "colab": {
          "base_uri": "https://localhost:8080/"
        },
        "id": "HaHlmQZsQ703",
        "outputId": "2d0fd5d9-b7e2-49ff-8c67-4234f3612c00"
      },
      "execution_count": null,
      "outputs": [
        {
          "output_type": "stream",
          "name": "stdout",
          "text": [
            "False\n",
            "True\n"
          ]
        }
      ]
    },
    {
      "cell_type": "markdown",
      "source": [
        "🧩 Exercise 4: Find the Largest Number in a List"
      ],
      "metadata": {
        "id": "DCDaMF0aRvmN"
      }
    },
    {
      "cell_type": "code",
      "source": [
        "#list=[3, 7, 2, 9, 5]\n",
        "\n",
        "def find_largest(l):\n",
        "  largest=0\n",
        "  for n in l:\n",
        "    if n>largest:\n",
        "      largest=n\n",
        "  return largest\n",
        "\n",
        "find_largest([3,7,2,9,5])"
      ],
      "metadata": {
        "colab": {
          "base_uri": "https://localhost:8080/"
        },
        "id": "Z3U-9qbWRwTz",
        "outputId": "d84e2fcf-9a97-4d47-c258-3315c3c941a3"
      },
      "execution_count": null,
      "outputs": [
        {
          "output_type": "execute_result",
          "data": {
            "text/plain": [
              "9"
            ]
          },
          "metadata": {},
          "execution_count": 11
        }
      ]
    }
  ]
}